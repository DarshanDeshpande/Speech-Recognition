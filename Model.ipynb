{
  "nbformat": 4,
  "nbformat_minor": 0,
  "metadata": {
    "colab": {
      "name": "Model.ipynb",
      "provenance": [],
      "machine_shape": "hm"
    },
    "kernelspec": {
      "name": "python3",
      "display_name": "Python 3"
    }
  },
  "cells": [
    {
      "cell_type": "code",
      "metadata": {
        "id": "LutlV_PkaHxD",
        "colab_type": "code",
        "colab": {
          "base_uri": "https://localhost:8080/",
          "height": 33
        },
        "outputId": "df1d6d1a-81b5-44d8-ad9d-a6458ed374a9"
      },
      "source": [
        "%tensorflow_version 2.x\n",
        "import tensorflow as tf\n",
        "import numpy as np\n",
        "import sklearn"
      ],
      "execution_count": 1,
      "outputs": [
        {
          "output_type": "stream",
          "text": [
            "TensorFlow 2.x selected.\n"
          ],
          "name": "stdout"
        }
      ]
    },
    {
      "cell_type": "code",
      "metadata": {
        "id": "EdcSzs9eadg1",
        "colab_type": "code",
        "outputId": "51456e06-cf29-4a77-ab4a-6d1a3a13d1cc",
        "colab": {
          "base_uri": "https://localhost:8080/",
          "height": 120
        }
      },
      "source": [
        "from google.colab import drive\n",
        "drive.mount('/content/drive')"
      ],
      "execution_count": 2,
      "outputs": [
        {
          "output_type": "stream",
          "text": [
            "Go to this URL in a browser: https://accounts.google.com/o/oauth2/auth?client_id=947318989803-6bn6qk8qdgf4n4g3pfee6491hc0brc4i.apps.googleusercontent.com&redirect_uri=urn%3aietf%3awg%3aoauth%3a2.0%3aoob&response_type=code&scope=email%20https%3a%2f%2fwww.googleapis.com%2fauth%2fdocs.test%20https%3a%2f%2fwww.googleapis.com%2fauth%2fdrive%20https%3a%2f%2fwww.googleapis.com%2fauth%2fdrive.photos.readonly%20https%3a%2f%2fwww.googleapis.com%2fauth%2fpeopleapi.readonly\n",
            "\n",
            "Enter your authorization code:\n",
            "··········\n",
            "Mounted at /content/drive\n"
          ],
          "name": "stdout"
        }
      ]
    },
    {
      "cell_type": "code",
      "metadata": {
        "id": "n2FtCffhakYN",
        "colab_type": "code",
        "colab": {}
      },
      "source": [
        "X_train = np.load(\"/content/drive/My Drive/X_shuffled_0.npy\").tolist()\n",
        "Y_train = np.load(\"/content/drive/My Drive/Y_shuffled_0.npy\").tolist()"
      ],
      "execution_count": 0,
      "outputs": []
    },
    {
      "cell_type": "code",
      "metadata": {
        "id": "aHQiQQihjxFs",
        "colab_type": "code",
        "colab": {}
      },
      "source": [
        "X_train = np.array(X_train)"
      ],
      "execution_count": 0,
      "outputs": []
    },
    {
      "cell_type": "code",
      "metadata": {
        "id": "nkIOEvR0j5aQ",
        "colab_type": "code",
        "colab": {}
      },
      "source": [
        "Y_train = np.array(Y_train)"
      ],
      "execution_count": 0,
      "outputs": []
    },
    {
      "cell_type": "code",
      "metadata": {
        "id": "F07Pb_DIa9U2",
        "colab_type": "code",
        "colab": {
          "base_uri": "https://localhost:8080/",
          "height": 251
        },
        "outputId": "1d322f08-411a-4509-d060-06cca25c04eb"
      },
      "source": [
        "from sklearn import preprocessing\n",
        "enc = preprocessing.OneHotEncoder()\n",
        "Y_train = Y_train.reshape(-1,1)\n",
        "print(Y_train)\n",
        "enc.fit(Y_train)\n",
        "Y_train = enc.transform(Y_train).toarray()\n",
        "print(Y_train)"
      ],
      "execution_count": 5,
      "outputs": [
        {
          "output_type": "stream",
          "text": [
            "[['zero']\n",
            " ['left']\n",
            " ['right']\n",
            " ...\n",
            " ['happy']\n",
            " ['eight']\n",
            " ['dog']]\n",
            "[[0. 0. 0. ... 0. 0. 1.]\n",
            " [0. 0. 0. ... 0. 0. 0.]\n",
            " [0. 0. 0. ... 0. 0. 0.]\n",
            " ...\n",
            " [0. 0. 0. ... 0. 0. 0.]\n",
            " [0. 0. 0. ... 0. 0. 0.]\n",
            " [0. 0. 0. ... 0. 0. 0.]]\n"
          ],
          "name": "stdout"
        }
      ]
    },
    {
      "cell_type": "code",
      "metadata": {
        "id": "qHKoq9sDlDrL",
        "colab_type": "code",
        "colab": {
          "base_uri": "https://localhost:8080/",
          "height": 33
        },
        "outputId": "e3cb3592-43ee-42b8-e6bf-f35706441d13"
      },
      "source": [
        "X_train.shape, Y_train.shape"
      ],
      "execution_count": 6,
      "outputs": [
        {
          "output_type": "execute_result",
          "data": {
            "text/plain": [
              "((1121, 22050), (1121, 30))"
            ]
          },
          "metadata": {
            "tags": []
          },
          "execution_count": 6
        }
      ]
    },
    {
      "cell_type": "code",
      "metadata": {
        "id": "KZTh-RZotp-P",
        "colab_type": "code",
        "colab": {
          "base_uri": "https://localhost:8080/",
          "height": 33
        },
        "outputId": "72304eee-b303-46e7-c501-a88e968ceabb"
      },
      "source": [
        "X_train = X_train.reshape(X_train.shape[0],X_train.shape[1],1)\n",
        "print(X_train.shape)"
      ],
      "execution_count": 7,
      "outputs": [
        {
          "output_type": "stream",
          "text": [
            "(1121, 22050, 1)\n"
          ],
          "name": "stdout"
        }
      ]
    },
    {
      "cell_type": "code",
      "metadata": {
        "id": "Iio9EGjQuEp0",
        "colab_type": "code",
        "colab": {}
      },
      "source": [
        "input_shape = (X_train.shape[1],1)"
      ],
      "execution_count": 0,
      "outputs": []
    },
    {
      "cell_type": "code",
      "metadata": {
        "id": "ZYIurc0qbb1n",
        "colab_type": "code",
        "colab": {
          "base_uri": "https://localhost:8080/",
          "height": 368
        },
        "outputId": "273b53d3-e632-4b79-bee2-cb3accaffc71"
      },
      "source": [
        "from tensorflow.keras.layers import LSTM,Dense,ConvLSTM2D,MaxPool1D,Flatten,Dropout,Input,Conv1D\n",
        "\n",
        "model = tf.keras.models.Sequential()\n",
        "model.add(Conv1D(16,activation='relu',input_shape=input_shape,kernel_size=(10)))\n",
        "model.add(MaxPool1D())\n",
        "model.add(Dropout(0.2))\n",
        "model.add(Conv1D(32,activation='relu',kernel_size=(10)))\n",
        "model.add(MaxPool1D())\n",
        "model.add(Dropout(0.2))\n",
        "model.add(Conv1D(16,activation='relu',kernel_size=(10)))\n",
        "model.add(MaxPool1D())\n",
        "model.add(Dropout(0.2))\n",
        "model.add(Flatten())\n",
        "model.add(Dense(128,activation='relu'))\n",
        "model.add(Dense(64,activation='relu'))\n",
        "model.add(Dense(30,activation='softmax'))\n",
        "\n",
        "model.compile(optimizer='adam',loss='categorical_crossentropy',metrics=['accuracy'])\n",
        "model.fit(X_train,Y_train,batch_size=64,epochs=10)\n",
        "\n",
        "model.save(\"model.h5\")"
      ],
      "execution_count": 13,
      "outputs": [
        {
          "output_type": "stream",
          "text": [
            "Train on 1121 samples\n",
            "Epoch 1/10\n",
            "1121/1121 [==============================] - 22s 20ms/sample - loss: 3.4008 - accuracy: 0.0375\n",
            "Epoch 2/10\n",
            "1121/1121 [==============================] - 22s 19ms/sample - loss: 3.3467 - accuracy: 0.0517\n",
            "Epoch 3/10\n",
            "1121/1121 [==============================] - 22s 19ms/sample - loss: 3.1337 - accuracy: 0.1347\n",
            "Epoch 4/10\n",
            "1121/1121 [==============================] - 22s 20ms/sample - loss: 2.4098 - accuracy: 0.3577\n",
            "Epoch 5/10\n",
            "1121/1121 [==============================] - 22s 20ms/sample - loss: 1.4403 - accuracy: 0.6191\n",
            "Epoch 6/10\n",
            "1121/1121 [==============================] - 22s 20ms/sample - loss: 0.8139 - accuracy: 0.7904\n",
            "Epoch 7/10\n",
            "1121/1121 [==============================] - 22s 19ms/sample - loss: 0.5499 - accuracy: 0.8751\n",
            "Epoch 8/10\n",
            "1121/1121 [==============================] - 22s 20ms/sample - loss: 0.4267 - accuracy: 0.9135\n",
            "Epoch 9/10\n",
            "1121/1121 [==============================] - 22s 20ms/sample - loss: 0.3654 - accuracy: 0.9135\n",
            "Epoch 10/10\n",
            "1121/1121 [==============================] - 22s 20ms/sample - loss: 0.3263 - accuracy: 0.9438\n"
          ],
          "name": "stdout"
        }
      ]
    },
    {
      "cell_type": "code",
      "metadata": {
        "id": "9jwnlwDI0vWY",
        "colab_type": "code",
        "colab": {}
      },
      "source": [
        "list_of_classes = ['bed', 'bird', 'cat', 'dog', 'down', 'eight', 'five', 'four', 'go', 'happy', 'house', 'left', 'marvin', 'nine', 'no', 'off', 'on', 'one', 'right', 'seven', 'sheila', 'six', 'stop', 'three', 'tree', 'two', 'up', 'wow', 'yes', 'zero']"
      ],
      "execution_count": 0,
      "outputs": []
    },
    {
      "cell_type": "code",
      "metadata": {
        "id": "eXcO2nx10AON",
        "colab_type": "code",
        "colab": {
          "base_uri": "https://localhost:8080/",
          "height": 50
        },
        "outputId": "4d44e676-3a5f-41c8-fb84-ff95eb51a1f7"
      },
      "source": [
        "prediction = model.predict(X_train)\n",
        "print(list_of_classes[np.argmax(Y_train[0])])\n",
        "print(list_of_classes[np.argmax(prediction[0])])"
      ],
      "execution_count": 21,
      "outputs": [
        {
          "output_type": "stream",
          "text": [
            "zero\n",
            "zero\n"
          ],
          "name": "stdout"
        }
      ]
    }
  ]
}