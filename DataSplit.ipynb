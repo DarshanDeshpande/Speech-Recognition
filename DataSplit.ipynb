{
 "cells": [
  {
   "cell_type": "code",
   "execution_count": 3,
   "metadata": {},
   "outputs": [],
   "source": [
    "import tensorflow as tf\n",
    "import numpy as np\n",
    "import sklearn"
   ]
  },
  {
   "cell_type": "code",
   "execution_count": 4,
   "metadata": {},
   "outputs": [],
   "source": [
    "list_of_classes = ['bed', 'bird', 'cat', 'dog', 'down', 'eight', 'five', 'four', 'go', 'happy', 'house', 'left', 'marvin', 'nine', 'no', 'off', 'on', 'one', 'right', 'seven', 'sheila', 'six', 'stop', 'three', 'tree', 'two', 'up', 'wow', 'yes', 'zero']"
   ]
  },
  {
   "cell_type": "code",
   "execution_count": 5,
   "metadata": {},
   "outputs": [
    {
     "name": "stdout",
     "output_type": "stream",
     "text": [
      "Loading X\n",
      "Loaded X in 0.001970052719116211\n"
     ]
    }
   ],
   "source": [
    "import time\n",
    "t1 = time.time()\n",
    "print(\"Loading X\")\n",
    "X_train = np.load(\"D:\\\\SpeechRecognitionData\\\\Arrays\\\\Xtrain.npy\",mmap_mode='r')\n",
    "t2 = time.time()\n",
    "print(\"Loaded X in {}\".format(t2-t1))"
   ]
  },
  {
   "cell_type": "code",
   "execution_count": 6,
   "metadata": {},
   "outputs": [
    {
     "data": {
      "text/plain": [
       "(56088, 22050)"
      ]
     },
     "execution_count": 6,
     "metadata": {},
     "output_type": "execute_result"
    }
   ],
   "source": [
    "X_train.shape"
   ]
  },
  {
   "cell_type": "raw",
   "metadata": {},
   "source": [
    "Loading Labels"
   ]
  },
  {
   "cell_type": "code",
   "execution_count": 7,
   "metadata": {},
   "outputs": [],
   "source": [
    "Y_train = np.load(\"D:\\\\SpeechRecognitionData\\\\Arrays\\\\Ytrain.npy\",mmap_mode='r')"
   ]
  },
  {
   "cell_type": "code",
   "execution_count": 8,
   "metadata": {},
   "outputs": [
    {
     "data": {
      "text/plain": [
       "(56088,)"
      ]
     },
     "execution_count": 8,
     "metadata": {},
     "output_type": "execute_result"
    }
   ],
   "source": [
    "Y_train.shape"
   ]
  },
  {
   "cell_type": "markdown",
   "metadata": {},
   "source": [
    "Building the Model"
   ]
  },
  {
   "cell_type": "code",
   "execution_count": 9,
   "metadata": {},
   "outputs": [
    {
     "data": {
      "text/plain": [
       "(56088, 30)"
      ]
     },
     "execution_count": 9,
     "metadata": {},
     "output_type": "execute_result"
    }
   ],
   "source": [
    "from sklearn import preprocessing\n",
    "enc = preprocessing.OneHotEncoder()\n",
    "Y_train = Y_train.reshape(-1,1)\n",
    "enc.fit(Y_train)\n",
    "Y_train = enc.transform(Y_train).toarray()\n",
    "Y_train.shape"
   ]
  },
  {
   "cell_type": "code",
   "execution_count": 10,
   "metadata": {},
   "outputs": [
    {
     "name": "stdout",
     "output_type": "stream",
     "text": [
      "[['down']]\n"
     ]
    }
   ],
   "source": [
    "decoded = enc.inverse_transform(Y_train[5000].reshape(-1,30))\n",
    "print(decoded)              "
   ]
  },
  {
   "cell_type": "code",
   "execution_count": 12,
   "metadata": {},
   "outputs": [],
   "source": [
    "X = []\n",
    "Y = []\n",
    "\n",
    "X.append(np.load(\"D:\\\\SpeechRecognitionData\\\\Arrays\\\\Xtrain.npy\",mmap_mode='r'))\n",
    "Y.append(np.load(\"D:\\\\SpeechRecognitionData\\\\Arrays\\\\Ytrain.npy\",mmap_mode='r'))"
   ]
  },
  {
   "cell_type": "code",
   "execution_count": null,
   "metadata": {},
   "outputs": [
    {
     "name": "stdout",
     "output_type": "stream",
     "text": [
      "0\n",
      "1121\n",
      "2242\n",
      "3363\n",
      "4484\n",
      "5605\n",
      "6726\n",
      "7847\n",
      "8968\n",
      "10089\n",
      "11210\n",
      "12331\n",
      "13452\n",
      "14573\n",
      "15694\n",
      "16815\n",
      "17936\n"
     ]
    }
   ],
   "source": [
    "import random\n",
    "indices = [(chunk, row) for chunk, rows in enumerate(X) \n",
    "                        for row in range(rows.shape[0])]\n",
    "random.shuffle(indices)\n",
    "\n",
    "newchunks = 50\n",
    "newchunksize = len(indices) / newchunks\n",
    "newchunksize = int(newchunksize)\n",
    "\n",
    "for i in range(0, len(indices),newchunksize):\n",
    "    print(i)\n",
    "    rows = [X[chunk][row] for chunk, row in indices[i:i + newchunksize]]\n",
    "    np.save('X_shuffled_' + str(i), np.array(rows))\n",
    "    rows = [Y[chunk][row] for chunk, row in indices[i:i + newchunksize]]\n",
    "    np.save('Y_shuffled_' + str(i), np.array(rows))"
   ]
  },
  {
   "cell_type": "raw",
   "metadata": {},
   "source": []
  }
 ],
 "metadata": {
  "kernelspec": {
   "display_name": "Python 3",
   "language": "python",
   "name": "python3"
  },
  "language_info": {
   "codemirror_mode": {
    "name": "ipython",
    "version": 3
   },
   "file_extension": ".py",
   "mimetype": "text/x-python",
   "name": "python",
   "nbconvert_exporter": "python",
   "pygments_lexer": "ipython3",
   "version": "3.7.5"
  }
 },
 "nbformat": 4,
 "nbformat_minor": 2
}
